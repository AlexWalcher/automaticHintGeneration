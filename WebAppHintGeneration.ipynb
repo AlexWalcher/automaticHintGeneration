{
  "nbformat": 4,
  "nbformat_minor": 0,
  "metadata": {
    "colab": {
      "provenance": [],
      "collapsed_sections": [
        "de25mCzzkO3Z"
      ],
      "include_colab_link": true
    },
    "kernelspec": {
      "name": "python3",
      "display_name": "Python 3"
    },
    "language_info": {
      "name": "python"
    }
  },
  "cells": [
    {
      "cell_type": "markdown",
      "metadata": {
        "id": "view-in-github",
        "colab_type": "text"
      },
      "source": [
        "<a href=\"https://colab.research.google.com/github/AlexWalcher/automaticHintGeneration/blob/Test/WebAppHintGeneration.ipynb\" target=\"_parent\"><img src=\"https://colab.research.google.com/assets/colab-badge.svg\" alt=\"Open In Colab\"/></a>"
      ]
    },
    {
      "cell_type": "markdown",
      "source": [
        "##How to start Streamlit WebApp:\n",
        "1. Run All imports\n",
        "2. Run WebApp"
      ],
      "metadata": {
        "id": "sdufKBvPeQbe"
      }
    },
    {
      "cell_type": "markdown",
      "metadata": {
        "id": "s5rwSDisuN9s"
      },
      "source": [
        "## **All imports**"
      ]
    },
    {
      "cell_type": "code",
      "source": [
        "%%capture\n",
        "# This cell will not display any output\n",
        "%cd /content/\n",
        "%rm -r automaticHintGeneration\n",
        "!git clone https://github.com/AlexWalcher/automaticHintGeneration.git\n",
        "%cd /content/\n",
        "%cd /content/automaticHintGeneration\n",
        "%mkdir tmp\n",
        "%cd /content/automaticHintGeneration/"
      ],
      "metadata": {
        "id": "b_jGbTrbz8x2"
      },
      "execution_count": 1,
      "outputs": []
    },
    {
      "cell_type": "code",
      "source": [
        "# %%capture\n",
        "# This cell will not display any output\n",
        "%cd /content/automaticHintGeneration/\n",
        "from automaticHintGenerationWebapp import *"
      ],
      "metadata": {
        "colab": {
          "base_uri": "https://localhost:8080/"
        },
        "id": "8TMc-NqnwtsA",
        "outputId": "61d2ce5e-842c-4a92-89e6-99c27a1465a0"
      },
      "execution_count": 29,
      "outputs": [
        {
          "output_type": "stream",
          "name": "stdout",
          "text": [
            "/content/automaticHintGeneration\n"
          ]
        }
      ]
    },
    {
      "cell_type": "markdown",
      "source": [
        "## WebApp deployment"
      ],
      "metadata": {
        "id": "de25mCzzkO3Z"
      }
    },
    {
      "cell_type": "code",
      "source": [
        "!streamlit run ./automaticHintGenerationWebapp.py &>/content/logs.txt &"
      ],
      "metadata": {
        "id": "R4LXcgtlkO3g"
      },
      "execution_count": 26,
      "outputs": []
    },
    {
      "cell_type": "code",
      "source": [
        "!npx localtunnel --port 8501 & curl ipv4.icanhazip.com"
      ],
      "metadata": {
        "outputId": "767863c1-6630-46dc-d143-0c1a3a93493b",
        "colab": {
          "base_uri": "https://localhost:8080/"
        },
        "id": "CAAsgXl9kO3g"
      },
      "execution_count": 27,
      "outputs": [
        {
          "output_type": "stream",
          "name": "stdout",
          "text": [
            "35.231.43.2\n",
            "\u001b[K\u001b[?25hnpx: installed 22 in 4.09s\n",
            "your url is: https://polite-rooms-tickle.loca.lt\n"
          ]
        }
      ]
    },
    {
      "cell_type": "code",
      "source": [
        "# Warning: to view this Streamlit app on a browser, run it with the following\n",
        "#   command:\n",
        "#     streamlit run /usr/local/lib/python3.10/dist-packages/ipykernel_launcher.py [ARGUMENTS]"
      ],
      "metadata": {
        "id": "HPVjV2ndkO3f"
      },
      "execution_count": null,
      "outputs": []
    },
    {
      "cell_type": "markdown",
      "source": [
        "# **TEST**"
      ],
      "metadata": {
        "id": "3aompPoo5kQg"
      }
    },
    {
      "cell_type": "code",
      "source": [
        "from my_modul import *\n",
        "\n",
        "\n",
        "file_path= '/content/automaticHintGeneration/tmp/questionLocation.txt'\n",
        "inter = read_properties_from_file(file_path)\n",
        "\n",
        "question = inter[0]\n",
        "answer = inter[1]\n",
        "\n",
        "location_questions_dict = {}\n",
        "location_questions_dict[answer] = question\n",
        "# dataLocation.append(location_questions_dict)\n",
        "pprint.pprint(location_questions_dict)\n",
        "location_hints_unexpected_categories = get_location_hints_unexpected_categories(location_questions_dict)"
      ],
      "metadata": {
        "colab": {
          "base_uri": "https://localhost:8080/"
        },
        "id": "hPH_7Xh_fY82",
        "outputId": "ff1c6d12-4102-4aa1-b3cf-7c77a8a18a50"
      },
      "execution_count": null,
      "outputs": [
        {
          "output_type": "stream",
          "name": "stdout",
          "text": [
            "{'Qatar': 'Where was the last Football World Cup held?;'}\n"
          ]
        }
      ]
    },
    {
      "cell_type": "code",
      "source": [
        "file_path= \"/content/automaticHintGeneration/tmp/questionYear.txt\"\n",
        "\n"
      ],
      "metadata": {
        "colab": {
          "base_uri": "https://localhost:8080/"
        },
        "id": "ucwHTdkp6MbL",
        "outputId": "2819290b-aa4a-44e5-ddf0-946395c298ed"
      },
      "execution_count": 9,
      "outputs": [
        {
          "output_type": "stream",
          "name": "stdout",
          "text": [
            "('When did Ferrari win their last constructors title in F1?\\tAnswer: 2008',\n",
            " '2008')\n"
          ]
        }
      ]
    }
  ]
}