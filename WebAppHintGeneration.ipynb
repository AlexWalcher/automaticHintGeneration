{
  "nbformat": 4,
  "nbformat_minor": 0,
  "metadata": {
    "colab": {
      "provenance": [],
      "collapsed_sections": [
        "de25mCzzkO3Z"
      ],
      "include_colab_link": true
    },
    "kernelspec": {
      "name": "python3",
      "display_name": "Python 3"
    },
    "language_info": {
      "name": "python"
    }
  },
  "cells": [
    {
      "cell_type": "markdown",
      "metadata": {
        "id": "view-in-github",
        "colab_type": "text"
      },
      "source": [
        "<a href=\"https://colab.research.google.com/github/AlexWalcher/automaticHintGeneration/blob/Test/WebAppHintGeneration.ipynb\" target=\"_parent\"><img src=\"https://colab.research.google.com/assets/colab-badge.svg\" alt=\"Open In Colab\"/></a>"
      ]
    },
    {
      "cell_type": "markdown",
      "source": [
        "##How to start Streamlit WebApp:\n",
        "1. Run All imports\n",
        "2. Run WebApp"
      ],
      "metadata": {
        "id": "sdufKBvPeQbe"
      }
    },
    {
      "cell_type": "markdown",
      "metadata": {
        "id": "s5rwSDisuN9s"
      },
      "source": [
        "## **All imports**"
      ]
    },
    {
      "cell_type": "code",
      "source": [
        "%%capture\n",
        "# This cell will not display any output\n",
        "%cd /content/\n",
        "%rm -r automaticHintGeneration\n",
        "!git clone https://github.com/AlexWalcher/automaticHintGeneration.git\n",
        "%cd /content/\n",
        "%cd /content/automaticHintGeneration\n",
        "%mkdir tmp\n",
        "%cd /content/automaticHintGeneration/"
      ],
      "metadata": {
        "id": "b_jGbTrbz8x2"
      },
      "execution_count": 1,
      "outputs": []
    },
    {
      "cell_type": "code",
      "source": [
        "# %ls\n",
        "# %cd automaticHintGeneration\n",
        "# %ls"
      ],
      "metadata": {
        "id": "rZqrhfPz00pE"
      },
      "execution_count": 2,
      "outputs": []
    },
    {
      "cell_type": "code",
      "source": [
        "%%capture\n",
        "# This cell will not display any output\n",
        "\n",
        "from automaticHintGenerationWebapp import *"
      ],
      "metadata": {
        "colab": {
          "base_uri": "https://localhost:8080/"
        },
        "id": "8TMc-NqnwtsA",
        "outputId": "905af6f3-9392-498a-b99e-7e4a727fb3b4"
      },
      "execution_count": 2,
      "outputs": [
        {
          "output_type": "stream",
          "name": "stdout",
          "text": [
            "\n",
            "\n",
            "finished imports\n",
            "\n",
            "\n",
            "{'location':                                         Question     Answer\n",
            "0  Innsbruck is a city in wich european country?    Austria\n",
            "1                  What is the capital of Tyrol?  Innsbruck,\n",
            " 'person':                                   Question           Answer\n",
            "0                Who hosts The Grand Tour?  Richard Hammond\n",
            "1  Who was 2022 F1 World Drivers champion?   Max Verstappen\n",
            "2                Who hosts The Grand Tour?  Jeremy Clarkson,\n",
            " 'year':                                                             Question  Answer\n",
            "0  When did Michael Schumacher win his first F1 World Drivers Title?    1994\n",
            "1   When did Michael Schumacher win his last F1 World Drivers Title?    2004}\n"
          ]
        },
        {
          "output_type": "stream",
          "name": "stderr",
          "text": [
            "Some weights of the model checkpoint at bert-base-uncased were not used when initializing BertModel: ['cls.predictions.transform.dense.bias', 'cls.predictions.transform.LayerNorm.weight', 'cls.seq_relationship.bias', 'cls.predictions.bias', 'cls.predictions.transform.dense.weight', 'cls.seq_relationship.weight', 'cls.predictions.transform.LayerNorm.bias']\n",
            "- This IS expected if you are initializing BertModel from the checkpoint of a model trained on another task or with another architecture (e.g. initializing a BertForSequenceClassification model from a BertForPreTraining model).\n",
            "- This IS NOT expected if you are initializing BertModel from the checkpoint of a model that you expect to be exactly identical (initializing a BertForSequenceClassification model from a BertForSequenceClassification model).\n",
            "Some weights of the model checkpoint at bert-base-uncased were not used when initializing BertModel: ['cls.predictions.transform.dense.bias', 'cls.predictions.transform.LayerNorm.weight', 'cls.seq_relationship.bias', 'cls.predictions.bias', 'cls.predictions.transform.dense.weight', 'cls.seq_relationship.weight', 'cls.predictions.transform.LayerNorm.bias']\n",
            "- This IS expected if you are initializing BertModel from the checkpoint of a model trained on another task or with another architecture (e.g. initializing a BertForSequenceClassification model from a BertForPreTraining model).\n",
            "- This IS NOT expected if you are initializing BertModel from the checkpoint of a model that you expect to be exactly identical (initializing a BertForSequenceClassification model from a BertForSequenceClassification model).\n",
            "2023-07-04 07:28:22.881 WARNING streamlit.runtime.state.session_state_proxy: Session state does not function when running a script without `streamlit run`\n"
          ]
        },
        {
          "output_type": "stream",
          "name": "stdout",
          "text": [
            "{1994: {'sports': {'p_f1': {'In the previous year, Alain Prost has won the F1 Drivers World Championship.': 0.7816421985626221},\n",
            "                   'worlds': {'In the same year, Brazil has won the FIFA World Cup.': 0.6666070222854614},\n",
            "                   'cl': {'In the same year, AC Milan has won the UEFA Champions League.': 0.6647369861602783},\n",
            "                   'f_cl': {'In the following year, Ajax has won the UEFA Champions League.': 0.6391717791557312},\n",
            "                   'p_cl': {'In the previous year, Marseille has won the UEFA Champions League.': 0.6317457556724548}},\n",
            "        'thumbcaption': {'In the same year, the Kaiser Permanente building after the  Northridge earthquake': 0.5455725193023682},\n",
            "        'vizgr': {'1994/05/01': {'In the same year, three-time Formula One world champion Ayrton Senna is killed in an accident during the San Marino Grand Prix in Imola, Italy.': 0.7630124092102051},\n",
            "                  '1994/04/30': {'In the same year, formula One driver Roland Ratzenberger is killed while qualifying for the  San Marino Grand Prix.': 0.7324753999710083},\n",
            "                  '1994/04/06': {'In the same year, kurt Cobain, songwriter and frontman for the band Nirvana, is found dead at his Lake Washington home, apparently of a single self-inflicted gunshot wound.': 0.6706864833831787},\n",
            "                  '1994/09/05': {\"In the same year, new South Wales State MP for Cabramatta John Newman is shot outside his home, in Australia's first political assassination since 1977.\": 0.6559743881225586},\n",
            "                  '1994/07/19': {'In the same year, four 26-pound ceiling tiles fall from the roof of the Kingdome in Seattle, Washington, just hours before a scheduled Seattle Mariners game.': 0.6421981453895569}},\n",
            "        'question': 'When did Michael Schumacher win his first F1 World '\n",
            "                    'Drivers Title?'},\n",
            " 2004: {'sports': {'f_f1': {'In the following year, Fernando Alonso has won the F1 Drivers World Championship.': 0.7957704067230225},\n",
            "                   'f_cl': {'In the following year, Liverpool has won the UEFA Champions League.': 0.6432414054870605},\n",
            "                   'p_cl': {'In the previous year, AC Milan has won the UEFA Champions League.': 0.6365283131599426},\n",
            "                   'euros': {'In the same year, Greece has won the UEFA Euro Football Championship.': 0.6051347255706787},\n",
            "                   'cl': {'In the same year, Porto has won the UEFA Champions League.': 0.6031892895698547}},\n",
            "        'thumbcaption': {'In the same year, the  transit of Venus, the first such occurrence since 1882': 0.5443825721740723},\n",
            "        'vizgr': {'2004/03/12': {'In the same year, russian presidential election, : Vladimir Putin easily wins a second term.': 0.633924663066864},\n",
            "                  '2004/05/15': {'In the same year, south Africa is awarded the 2010 FIFA World Cup.': 0.6325787305831909},\n",
            "                  '2004/12/14': {\"In the same year, the world's tallest bridge, the Millau bridge over the River Tarn in the Massif Central mountains, France, is opened by President Jacques Chirac.\": 0.6242968440055847},\n",
            "                  '2004/09/29': {\"In the same year, in Mojave, California, the first Ansari X-Prize flight takes place of SpaceShipOne, which is competing with a number of spacecraft (including Canada's Da Vinci Project, claimed to be its closest rival) and goes on to win the prize on October 4.\": 0.6223667860031128},\n",
            "                  '2004/05/04': {'In the same year, the Toronto Maple Leafs played their last NHL playoff game.': 0.6157877445220947}},\n",
            "        'question': 'When did Michael Schumacher win his last F1 World Drivers '\n",
            "                    'Title?'}}\n",
            "\n",
            "\n",
            "finished imports\n",
            "\n",
            "\n",
            "{'location':                                         Question     Answer\n",
            "0  Innsbruck is a city in wich european country?    Austria\n",
            "1                  What is the capital of Tyrol?  Innsbruck,\n",
            " 'person':                                   Question           Answer\n",
            "0                Who hosts The Grand Tour?  Richard Hammond\n",
            "1  Who was 2022 F1 World Drivers champion?   Max Verstappen\n",
            "2                Who hosts The Grand Tour?  Jeremy Clarkson,\n",
            " 'year':                                                             Question  Answer\n",
            "0  When did Michael Schumacher win his first F1 World Drivers Title?    1994\n",
            "1   When did Michael Schumacher win his last F1 World Drivers Title?    2004}\n"
          ]
        },
        {
          "output_type": "stream",
          "name": "stderr",
          "text": [
            "2023-07-04 07:28:23.531 \n",
            "  \u001b[33m\u001b[1mWarning:\u001b[0m to view this Streamlit app on a browser, run it with the following\n",
            "  command:\n",
            "\n",
            "    streamlit run /usr/local/lib/python3.10/dist-packages/ipykernel_launcher.py [ARGUMENTS]\n"
          ]
        }
      ]
    },
    {
      "cell_type": "markdown",
      "source": [
        "## WebApp deployment"
      ],
      "metadata": {
        "id": "de25mCzzkO3Z"
      }
    },
    {
      "cell_type": "code",
      "source": [
        "!streamlit run ./automaticHintGenerationWebapp.py &>/content/logs.txt &"
      ],
      "metadata": {
        "id": "R4LXcgtlkO3g"
      },
      "execution_count": 3,
      "outputs": []
    },
    {
      "cell_type": "code",
      "source": [
        "!npx localtunnel --port 8501 & curl ipv4.icanhazip.com"
      ],
      "metadata": {
        "outputId": "f08d51e4-f8db-4072-aee1-b183784a9b52",
        "colab": {
          "base_uri": "https://localhost:8080/"
        },
        "id": "CAAsgXl9kO3g"
      },
      "execution_count": null,
      "outputs": [
        {
          "output_type": "stream",
          "name": "stdout",
          "text": [
            "34.132.216.103\n",
            "\u001b[K\u001b[?25hnpx: installed 22 in 2.267s\n",
            "your url is: https://long-nights-shine.loca.lt\n"
          ]
        }
      ]
    },
    {
      "cell_type": "code",
      "source": [
        "# Warning: to view this Streamlit app on a browser, run it with the following\n",
        "#   command:\n",
        "#     streamlit run /usr/local/lib/python3.10/dist-packages/ipykernel_launcher.py [ARGUMENTS]"
      ],
      "metadata": {
        "id": "HPVjV2ndkO3f"
      },
      "execution_count": null,
      "outputs": []
    }
  ]
}