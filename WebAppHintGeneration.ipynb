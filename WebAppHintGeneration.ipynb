{
  "nbformat": 4,
  "nbformat_minor": 0,
  "metadata": {
    "colab": {
      "provenance": [],
      "collapsed_sections": [
        "de25mCzzkO3Z"
      ],
      "include_colab_link": true
    },
    "kernelspec": {
      "name": "python3",
      "display_name": "Python 3"
    },
    "language_info": {
      "name": "python"
    }
  },
  "cells": [
    {
      "cell_type": "markdown",
      "metadata": {
        "id": "view-in-github",
        "colab_type": "text"
      },
      "source": [
        "<a href=\"https://colab.research.google.com/github/AlexWalcher/automaticHintGeneration/blob/main/WebAppHintGeneration.ipynb\" target=\"_parent\"><img src=\"https://colab.research.google.com/assets/colab-badge.svg\" alt=\"Open In Colab\"/></a>"
      ]
    },
    {
      "cell_type": "markdown",
      "source": [
        "##How to start the automatic hint generation - Streamlit WebApp:\n",
        "\n",
        "1. Run Deployment\n",
        "2. Follow the instructions to open the Streamlit-WebApp\n"
      ],
      "metadata": {
        "id": "sdufKBvPeQbe"
      }
    },
    {
      "cell_type": "markdown",
      "source": [
        "# **Deployment**"
      ],
      "metadata": {
        "id": "z7i2AKZrkDO8"
      }
    },
    {
      "cell_type": "markdown",
      "metadata": {
        "id": "s5rwSDisuN9s"
      },
      "source": [
        "## **All imports**"
      ]
    },
    {
      "cell_type": "code",
      "source": [
        "%%capture\n",
        "# This cell will not display any output\n",
        "%cd /content/\n",
        "%rm -r automaticHintGeneration\n",
        "!git clone https://github.com/AlexWalcher/automaticHintGeneration.git\n",
        "%cd /content/\n",
        "%cd /content/automaticHintGeneration\n",
        "%mkdir tmp\n",
        "%cd /content/automaticHintGeneration/"
      ],
      "metadata": {
        "id": "b_jGbTrbz8x2"
      },
      "execution_count": 13,
      "outputs": []
    },
    {
      "cell_type": "code",
      "source": [
        "%%capture\n",
        "# This cell will not display any output\n",
        "\n",
        "%cd /content/automaticHintGeneration/\n",
        "from automaticHintGenerationWebapp import *"
      ],
      "metadata": {
        "id": "8TMc-NqnwtsA"
      },
      "execution_count": 14,
      "outputs": []
    },
    {
      "cell_type": "markdown",
      "source": [
        "## WebApp deployment"
      ],
      "metadata": {
        "id": "de25mCzzkO3Z"
      }
    },
    {
      "cell_type": "markdown",
      "source": [
        "Run both cells below. From the second cell you should get back a IP-address (like 123.456.789.101) and a URL (like https://cool-files-wonder.loca.lt/). Open the URL in your browser and enter the corresponding IP-address.\n",
        "After that, wait for a short bit until the page is loaded, which takes some time because of the large number of imports.\n",
        "\n",
        "---\n",
        "\n",
        "*Disclaimer: the functions from the Webapp take some time to load and execute; they are not stuck they just take a little bit longer*"
      ],
      "metadata": {
        "id": "72ZkFljISn5s"
      }
    },
    {
      "cell_type": "code",
      "source": [
        "!streamlit run ./automaticHintGenerationWebapp.py &>/content/logs.txt &"
      ],
      "metadata": {
        "id": "R4LXcgtlkO3g"
      },
      "execution_count": null,
      "outputs": []
    },
    {
      "cell_type": "code",
      "source": [
        "!npx localtunnel --port 8501 & curl ipv4.icanhazip.com"
      ],
      "metadata": {
        "outputId": "4f7ead23-0d9d-442b-f92d-2dd3aca06c11",
        "colab": {
          "base_uri": "https://localhost:8080/"
        },
        "id": "CAAsgXl9kO3g"
      },
      "execution_count": 16,
      "outputs": [
        {
          "output_type": "stream",
          "name": "stdout",
          "text": [
            "104.196.122.111\n",
            "\u001b[K\u001b[?25hnpx: installed 22 in 3.429s\n",
            "your url is: https://cool-files-wonder.loca.lt\n"
          ]
        }
      ]
    }
  ]
}