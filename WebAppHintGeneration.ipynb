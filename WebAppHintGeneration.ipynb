{
  "nbformat": 4,
  "nbformat_minor": 0,
  "metadata": {
    "colab": {
      "provenance": [],
      "collapsed_sections": [
        "de25mCzzkO3Z"
      ],
      "include_colab_link": true
    },
    "kernelspec": {
      "name": "python3",
      "display_name": "Python 3"
    },
    "language_info": {
      "name": "python"
    }
  },
  "cells": [
    {
      "cell_type": "markdown",
      "metadata": {
        "id": "view-in-github",
        "colab_type": "text"
      },
      "source": [
        "<a href=\"https://colab.research.google.com/github/AlexWalcher/automaticHintGeneration/blob/Test/WebAppHintGeneration.ipynb\" target=\"_parent\"><img src=\"https://colab.research.google.com/assets/colab-badge.svg\" alt=\"Open In Colab\"/></a>"
      ]
    },
    {
      "cell_type": "markdown",
      "source": [
        "##How to start the automatic hint generation - Streamlit WebApp:\n",
        "\n",
        "1. Run Deployment\n",
        "2. Follow the instructions\n",
        "\n",
        "*Disclaimer: the Webapp takes some time to load*"
      ],
      "metadata": {
        "id": "sdufKBvPeQbe"
      }
    },
    {
      "cell_type": "markdown",
      "source": [
        "# **Deployment**"
      ],
      "metadata": {
        "id": "z7i2AKZrkDO8"
      }
    },
    {
      "cell_type": "markdown",
      "metadata": {
        "id": "s5rwSDisuN9s"
      },
      "source": [
        "## **All imports**"
      ]
    },
    {
      "cell_type": "code",
      "source": [
        "%%capture\n",
        "# This cell will not display any output\n",
        "%cd /content/\n",
        "%rm -r automaticHintGeneration\n",
        "!git clone https://github.com/AlexWalcher/automaticHintGeneration.git\n",
        "%cd /content/\n",
        "%cd /content/automaticHintGeneration\n",
        "%mkdir tmp\n",
        "%cd /content/automaticHintGeneration/"
      ],
      "metadata": {
        "id": "b_jGbTrbz8x2"
      },
      "execution_count": 1,
      "outputs": []
    },
    {
      "cell_type": "code",
      "source": [
        "# %%capture\n",
        "# This cell will not display any output\n",
        "%cd /content/automaticHintGeneration/\n",
        "from automaticHintGenerationWebapp import *"
      ],
      "metadata": {
        "colab": {
          "base_uri": "https://localhost:8080/"
        },
        "id": "8TMc-NqnwtsA",
        "outputId": "1141659d-cb80-49f3-b0ff-76bea828baf1"
      },
      "execution_count": 2,
      "outputs": [
        {
          "output_type": "stream",
          "name": "stdout",
          "text": [
            "/content/automaticHintGeneration\n",
            "\n",
            "\n",
            "finished imports\n",
            "\n",
            "\n"
          ]
        },
        {
          "output_type": "stream",
          "name": "stderr",
          "text": [
            "Some weights of the model checkpoint at bert-base-uncased were not used when initializing BertModel: ['cls.predictions.transform.dense.bias', 'cls.seq_relationship.weight', 'cls.seq_relationship.bias', 'cls.predictions.transform.LayerNorm.bias', 'cls.predictions.bias', 'cls.predictions.transform.dense.weight', 'cls.predictions.transform.LayerNorm.weight']\n",
            "- This IS expected if you are initializing BertModel from the checkpoint of a model trained on another task or with another architecture (e.g. initializing a BertForSequenceClassification model from a BertForPreTraining model).\n",
            "- This IS NOT expected if you are initializing BertModel from the checkpoint of a model that you expect to be exactly identical (initializing a BertForSequenceClassification model from a BertForSequenceClassification model).\n",
            "Some weights of the model checkpoint at bert-base-uncased were not used when initializing BertModel: ['cls.predictions.transform.dense.bias', 'cls.seq_relationship.weight', 'cls.seq_relationship.bias', 'cls.predictions.transform.LayerNorm.bias', 'cls.predictions.bias', 'cls.predictions.transform.dense.weight', 'cls.predictions.transform.LayerNorm.weight']\n",
            "- This IS expected if you are initializing BertModel from the checkpoint of a model trained on another task or with another architecture (e.g. initializing a BertForSequenceClassification model from a BertForPreTraining model).\n",
            "- This IS NOT expected if you are initializing BertModel from the checkpoint of a model that you expect to be exactly identical (initializing a BertForSequenceClassification model from a BertForSequenceClassification model).\n",
            "2023-07-11 07:28:21.242 WARNING streamlit.runtime.state.session_state_proxy: Session state does not function when running a script without `streamlit run`\n",
            "2023-07-11 07:28:21.534 \n",
            "  \u001b[33m\u001b[1mWarning:\u001b[0m to view this Streamlit app on a browser, run it with the following\n",
            "  command:\n",
            "\n",
            "    streamlit run /usr/local/lib/python3.10/dist-packages/ipykernel_launcher.py [ARGUMENTS]\n"
          ]
        }
      ]
    },
    {
      "cell_type": "markdown",
      "source": [
        "## WebApp deployment"
      ],
      "metadata": {
        "id": "de25mCzzkO3Z"
      }
    },
    {
      "cell_type": "code",
      "source": [
        "!streamlit run ./automaticHintGenerationWebapp.py &>/content/logs.txt &"
      ],
      "metadata": {
        "id": "R4LXcgtlkO3g"
      },
      "execution_count": 3,
      "outputs": []
    },
    {
      "cell_type": "code",
      "source": [
        "!npx localtunnel --port 8501 & curl ipv4.icanhazip.com"
      ],
      "metadata": {
        "outputId": "571c2598-6950-4cd3-e131-03f5967ff707",
        "colab": {
          "base_uri": "https://localhost:8080/"
        },
        "id": "CAAsgXl9kO3g"
      },
      "execution_count": 4,
      "outputs": [
        {
          "output_type": "stream",
          "name": "stdout",
          "text": [
            "104.196.122.111\n",
            "\u001b[K\u001b[?25hnpx: installed 22 in 7.061s\n",
            "your url is: https://spicy-geckos-nail.loca.lt\n"
          ]
        }
      ]
    },
    {
      "cell_type": "markdown",
      "source": [
        "# TEST"
      ],
      "metadata": {
        "id": "skqxtAIiPlaE"
      }
    },
    {
      "cell_type": "code",
      "source": [
        "%cd /content/automaticHintGeneration/\n",
        "from my_modul import *"
      ],
      "metadata": {
        "id": "4daGjM5SGGJ6",
        "outputId": "07c5cc5f-8dcb-46ae-d7b6-e68f6ebcf8d5",
        "colab": {
          "base_uri": "https://localhost:8080/"
        }
      },
      "execution_count": 1,
      "outputs": [
        {
          "output_type": "stream",
          "name": "stdout",
          "text": [
            "/content/automaticHintGeneration\n",
            "\n",
            "\n",
            "finished imports\n",
            "\n",
            "\n"
          ]
        },
        {
          "output_type": "stream",
          "name": "stderr",
          "text": [
            "Some weights of the model checkpoint at bert-base-uncased were not used when initializing BertModel: ['cls.seq_relationship.bias', 'cls.predictions.transform.LayerNorm.weight', 'cls.predictions.bias', 'cls.predictions.transform.dense.weight', 'cls.predictions.transform.LayerNorm.bias', 'cls.predictions.transform.dense.bias', 'cls.seq_relationship.weight']\n",
            "- This IS expected if you are initializing BertModel from the checkpoint of a model trained on another task or with another architecture (e.g. initializing a BertForSequenceClassification model from a BertForPreTraining model).\n",
            "- This IS NOT expected if you are initializing BertModel from the checkpoint of a model that you expect to be exactly identical (initializing a BertForSequenceClassification model from a BertForSequenceClassification model).\n",
            "Some weights of the model checkpoint at bert-base-uncased were not used when initializing BertModel: ['cls.seq_relationship.bias', 'cls.predictions.transform.LayerNorm.weight', 'cls.predictions.bias', 'cls.predictions.transform.dense.weight', 'cls.predictions.transform.LayerNorm.bias', 'cls.predictions.transform.dense.bias', 'cls.seq_relationship.weight']\n",
            "- This IS expected if you are initializing BertModel from the checkpoint of a model trained on another task or with another architecture (e.g. initializing a BertForSequenceClassification model from a BertForPreTraining model).\n",
            "- This IS NOT expected if you are initializing BertModel from the checkpoint of a model that you expect to be exactly identical (initializing a BertForSequenceClassification model from a BertForSequenceClassification model).\n"
          ]
        }
      ]
    },
    {
      "cell_type": "code",
      "source": [
        "# file_path = \"/content/automaticHintGeneration/tmp/testSet_WebApp.xlsx\"\n",
        "# generated_hint_sentences = generate_hints_from_xlsx(file_path)\n",
        "# pprint.pprint(generated_hint_sentences, indent=1, sort_dicts=False)"
      ],
      "metadata": {
        "id": "Yv9ddoDuEYRC"
      },
      "execution_count": null,
      "outputs": []
    },
    {
      "cell_type": "code",
      "source": [
        "# file_path = \"/content/automaticHintGeneration/tmp/testSet_WebApp.xlsx\"\n",
        "\n",
        "# df_list = load_file_path(file_path)\n",
        "# year_df = df_list[\"year\"]\n",
        "\n",
        "# year_questions_dict = dict(zip(year_df['Answer'], year_df['Question']))\n",
        "# generated_hint_sentences = {}\n",
        "# #generates the hints for the YEARS question\n",
        "# years_hints = generate_hints_years(year_questions_dict)\n",
        "# generated_hint_sentences['years'] = years_hints\n",
        "\n",
        "# pprint.pprint(generated_hint_sentences)"
      ],
      "metadata": {
        "id": "FPvXyS8GL4jP",
        "outputId": "179c9434-e5d0-486f-c694-605e68fee9b4",
        "colab": {
          "base_uri": "https://localhost:8080/"
        }
      },
      "execution_count": 2,
      "outputs": [
        {
          "output_type": "stream",
          "name": "stdout",
          "text": [
            "{'years': {1994: {'question': 'When did Michael Schumacher win his first F1 '\n",
            "                              'World Drivers Title?',\n",
            "                  'sports': {'cl': {'In the same year, AC Milan has won the UEFA Champions League.': 0.6647369861602783},\n",
            "                             'f_cl': {'In the following year, Ajax has won the UEFA Champions League.': 0.6391717791557312},\n",
            "                             'p_cl': {'In the previous year, Marseille has won the UEFA Champions League.': 0.6317457556724548},\n",
            "                             'p_f1': {'In the previous year, Alain Prost has won the F1 Drivers World Championship.': 0.7816421985626221},\n",
            "                             'worlds': {'In the same year, Brazil has won the FIFA World Cup.': 0.6666070222854614}},\n",
            "                  'vizgr': {'1994/04/06': {'In the same year, kurt Cobain, songwriter and frontman for the band Nirvana, is found dead at his Lake Washington home, apparently of a single self-inflicted gunshot wound.': 0.6706864833831787},\n",
            "                            '1994/04/30': {'In the same year, formula One driver Roland Ratzenberger is killed while qualifying for the  San Marino Grand Prix.': 0.7324753999710083},\n",
            "                            '1994/05/01': {'In the same year, three-time Formula One world champion Ayrton Senna is killed in an accident during the San Marino Grand Prix in Imola, Italy.': 0.7630124092102051},\n",
            "                            '1994/07/19': {'In the same year, four 26-pound ceiling tiles fall from the roof of the Kingdome in Seattle, Washington, just hours before a scheduled Seattle Mariners game.': 0.6421981453895569},\n",
            "                            '1994/09/05': {\"In the same year, new South Wales State MP for Cabramatta John Newman is shot outside his home, in Australia's first political assassination since 1977.\": 0.6559743881225586}}}}}\n"
          ]
        }
      ]
    }
  ]
}